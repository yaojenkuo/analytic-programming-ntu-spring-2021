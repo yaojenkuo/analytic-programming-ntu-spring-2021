{
 "cells": [
  {
   "cell_type": "markdown",
   "metadata": {
    "slideshow": {
     "slide_type": "slide"
    }
   },
   "source": [
    "# Analytic Programming\n",
    "\n",
    "> Modules and Libraries in Python.\n",
    "\n",
    "Kuo, Yao-Jen <yaojenkuo@ntu.edu.tw> from [DATAINPOINT](https://www.datainpoint.com/)"
   ]
  },
  {
   "cell_type": "markdown",
   "metadata": {
    "slideshow": {
     "slide_type": "slide"
    }
   },
   "source": [
    "## Modules"
   ]
  },
  {
   "cell_type": "markdown",
   "metadata": {
    "slideshow": {
     "slide_type": "subslide"
    }
   },
   "source": [
    "## What is a module in Python?\n",
    "\n",
    "> A Python module is a file with the extension of `.py` which consists of a couple of functions or classes."
   ]
  },
  {
   "cell_type": "markdown",
   "metadata": {
    "slideshow": {
     "slide_type": "subslide"
    }
   },
   "source": [
    "## Standard modules\n",
    "\n",
    "- Modules distributed with Python are called **standard modules**.\n",
    "- We can literally **see** them in our environment."
   ]
  },
  {
   "cell_type": "markdown",
   "metadata": {
    "slideshow": {
     "slide_type": "subslide"
    }
   },
   "source": [
    "## Use `__file__` attribute to find the location of a certain module\n",
    "\n",
    "Use `import` keyword to specify the module we are about to leverage.\n",
    "\n",
    "```python\n",
    "import standard_module\n",
    "\n",
    "print(standard_module.__file__)\n",
    "```"
   ]
  },
  {
   "cell_type": "markdown",
   "metadata": {
    "slideshow": {
     "slide_type": "subslide"
    }
   },
   "source": [
    "## Navigate files using Terminal in our environment\n",
    "\n",
    "- Go to Jupyter homepage.\n",
    "- New -> Terminal."
   ]
  },
  {
   "cell_type": "markdown",
   "metadata": {
    "slideshow": {
     "slide_type": "subslide"
    }
   },
   "source": [
    "## Use `cd` to change directory\n",
    "\n",
    "- `cd` stands for change director.\n",
    "- Type `cd /opt/conda/lib/python3.8` then press Enter."
   ]
  },
  {
   "cell_type": "markdown",
   "metadata": {
    "slideshow": {
     "slide_type": "subslide"
    }
   },
   "source": [
    "## Use `ls` to see some standard modules in `/opt/conda/lib/python3.8`\n",
    "\n",
    "- `ls` stands for list.\n",
    "- We can literally see some of the modules we've used in previous chapters/exercises.\n",
    "    - `functool.py`\n",
    "    - `operator.py`\n",
    "    - `random.py`\n",
    "    - ...etc."
   ]
  },
  {
   "cell_type": "markdown",
   "metadata": {
    "slideshow": {
     "slide_type": "subslide"
    }
   },
   "source": [
    "## Create a module locally\n",
    "\n",
    "- Create an empty `simple_calculator.py` in working directory.\n",
    "- Working directory refers to the path where running notebook locates."
   ]
  },
  {
   "cell_type": "markdown",
   "metadata": {
    "slideshow": {
     "slide_type": "subslide"
    }
   },
   "source": [
    "## Copy the previously defined `SimpleCalculator` class and paste onto `simple_calculator.py`"
   ]
  },
  {
   "cell_type": "code",
   "execution_count": 1,
   "metadata": {
    "slideshow": {
     "slide_type": "-"
    }
   },
   "outputs": [],
   "source": [
    "# simple_calculator.py\n",
    "class SimpleCalculator:\n",
    "    \"\"\"\n",
    "    This class creates a simple calculator that is able to add, subtract, multiply, and divide 2 numbers.\n",
    "    This class has an attribute of Euler's number: e.\n",
    "    \"\"\"\n",
    "    def __init__(self):\n",
    "        self.e = 2.71828182846\n",
    "    def add(self, x, y):\n",
    "        return x + y\n",
    "    def subtract(self, x, y):\n",
    "        return x - y\n",
    "    def multiply(self, x, y):\n",
    "        return x * y\n",
    "    def divide(self, x, y):\n",
    "        return x / y"
   ]
  },
  {
   "cell_type": "markdown",
   "metadata": {
    "slideshow": {
     "slide_type": "subslide"
    }
   },
   "source": [
    "## Import pre-defined class from a module\n",
    "\n",
    "- Use `import` keyword to specify the module we are about to leverage.\n",
    "- Use `as` keyword for alias.\n",
    "\n",
    "```python\n",
    "import module_name\n",
    "import module_name as alias\n",
    "```"
   ]
  },
  {
   "cell_type": "markdown",
   "metadata": {
    "slideshow": {
     "slide_type": "subslide"
    }
   },
   "source": [
    "## Use `.` to specify affiliations"
   ]
  },
  {
   "cell_type": "code",
   "execution_count": 2,
   "metadata": {
    "slideshow": {
     "slide_type": "-"
    }
   },
   "outputs": [
    {
     "name": "stdout",
     "output_type": "stream",
     "text": [
      "2.71828182846\n",
      "5566\n"
     ]
    }
   ],
   "source": [
    "import simple_calculator\n",
    "\n",
    "sim_calc = simple_calculator.SimpleCalculator()\n",
    "print(sim_calc.e)\n",
    "print(sim_calc.add('55', '66'))"
   ]
  },
  {
   "cell_type": "code",
   "execution_count": 3,
   "metadata": {
    "slideshow": {
     "slide_type": "subslide"
    }
   },
   "outputs": [
    {
     "name": "stdout",
     "output_type": "stream",
     "text": [
      "2.71828182846\n",
      "5566\n"
     ]
    }
   ],
   "source": [
    "import simple_calculator as sc\n",
    "\n",
    "sim_calc = sc.SimpleCalculator()\n",
    "print(sim_calc.e)\n",
    "print(sim_calc.add('55', '66'))"
   ]
  },
  {
   "cell_type": "markdown",
   "metadata": {
    "slideshow": {
     "slide_type": "subslide"
    }
   },
   "source": [
    "## Import specific feature from a module\n",
    "\n",
    "- A module may consist of a couple of functions or classes.\n",
    "- Use `from` and `import` keywords to leverage a specific feature.\n",
    "\n",
    "```python\n",
    "from module_name import class_name as alias\n",
    "from module_name import function_name as alias\n",
    "```"
   ]
  },
  {
   "cell_type": "code",
   "execution_count": 4,
   "metadata": {
    "slideshow": {
     "slide_type": "subslide"
    }
   },
   "outputs": [
    {
     "name": "stdout",
     "output_type": "stream",
     "text": [
      "2.71828182846\n",
      "5566\n"
     ]
    }
   ],
   "source": [
    "from simple_calculator import SimpleCalculator\n",
    "\n",
    "sim_calc = SimpleCalculator()\n",
    "print(sim_calc.e)\n",
    "print(sim_calc.add('55', '66'))"
   ]
  },
  {
   "cell_type": "code",
   "execution_count": 5,
   "metadata": {
    "slideshow": {
     "slide_type": "subslide"
    }
   },
   "outputs": [
    {
     "name": "stdout",
     "output_type": "stream",
     "text": [
      "2.71828182846\n",
      "5566\n"
     ]
    }
   ],
   "source": [
    "from simple_calculator import SimpleCalculator as SC\n",
    "\n",
    "sim_calc = SC()\n",
    "print(sim_calc.e)\n",
    "print(sim_calc.add('55', '66'))"
   ]
  },
  {
   "cell_type": "markdown",
   "metadata": {
    "slideshow": {
     "slide_type": "slide"
    }
   },
   "source": [
    "## Libraries"
   ]
  },
  {
   "cell_type": "markdown",
   "metadata": {
    "slideshow": {
     "slide_type": "subslide"
    }
   },
   "source": [
    "## What is a libaray in Python?\n",
    "\n",
    "> A Python library is a folder which consists of a couple of libraries and modules."
   ]
  },
  {
   "cell_type": "markdown",
   "metadata": {
    "slideshow": {
     "slide_type": "subslide"
    }
   },
   "source": [
    "## Standard libraries\n",
    "\n",
    "- Libraries distributed with Python are called **standard libraries**.\n",
    "- We can literally **see** them in our environment."
   ]
  },
  {
   "cell_type": "markdown",
   "metadata": {
    "slideshow": {
     "slide_type": "subslide"
    }
   },
   "source": [
    "## Use `ls` to see some standard libraries in `/opt/conda/lib/python3.8`\n",
    "\n",
    "- `ls` stands for list.\n",
    "- We can literally see some of the libraries we've used in previous chapters/exercises.\n",
    "    - `json/`\n",
    "    - `unittest/`\n",
    "    - ...etc."
   ]
  },
  {
   "cell_type": "markdown",
   "metadata": {
    "slideshow": {
     "slide_type": "subslide"
    }
   },
   "source": [
    "## Different accessibility of functions/classes\n",
    "\n",
    "- Built-in.\n",
    "- Standard modules/libraries.\n",
    "- Third-party modules/libraries."
   ]
  },
  {
   "cell_type": "markdown",
   "metadata": {
    "slideshow": {
     "slide_type": "subslide"
    }
   },
   "source": [
    "## Use `ls` to see some standard libraries in `/opt/conda/lib/python3.8/site-packages`\n",
    "\n",
    "- `ls` stands for list.\n",
    "- We can literally see some of the libraries we will use in coming chapters/exercises.\n",
    "    - `numpy`\n",
    "    - `pandas`\n",
    "    - `matplotlib`\n",
    "    - ...etc."
   ]
  },
  {
   "cell_type": "markdown",
   "metadata": {
    "slideshow": {
     "slide_type": "subslide"
    }
   },
   "source": [
    "## Create a library locally\n",
    "\n",
    "- Create an empty folder named `calculators` in working directory.\n",
    "- Put `simple_calculator.py` inside folder `calculators`."
   ]
  },
  {
   "cell_type": "markdown",
   "metadata": {
    "slideshow": {
     "slide_type": "subslide"
    }
   },
   "source": [
    "## Import pre-defined class from a library\n",
    "\n",
    "- Use `import` keyword to specify the library we are about to leverage.\n",
    "- Use `as` keyword for alias.\n",
    "\n",
    "```python\n",
    "import library_name\n",
    "import library_name as alias\n",
    "```"
   ]
  },
  {
   "cell_type": "markdown",
   "metadata": {
    "slideshow": {
     "slide_type": "subslide"
    }
   },
   "source": [
    "## Use `.` to specify affiliations"
   ]
  },
  {
   "cell_type": "code",
   "execution_count": 6,
   "metadata": {
    "slideshow": {
     "slide_type": "-"
    }
   },
   "outputs": [
    {
     "name": "stdout",
     "output_type": "stream",
     "text": [
      "2.71828182846\n",
      "5566\n"
     ]
    }
   ],
   "source": [
    "import calculators.simple_calculator as csc\n",
    "\n",
    "sim_calc = csc.SimpleCalculator()\n",
    "print(sim_calc.e)\n",
    "print(sim_calc.add('55', '66'))"
   ]
  },
  {
   "cell_type": "markdown",
   "metadata": {
    "slideshow": {
     "slide_type": "subslide"
    }
   },
   "source": [
    "## Import specific feature from a library\n",
    "\n",
    "- A library may consist of a couple of modules.\n",
    "- Use `from` and `import` keywords to leverage a specific feature.\n",
    "\n",
    "```python\n",
    "from library_name import module_name as alias\n",
    "from library_name.module_name import class_name as alias\n",
    "from library_name.module_name import function_name as alias\n",
    "```"
   ]
  },
  {
   "cell_type": "markdown",
   "metadata": {
    "slideshow": {
     "slide_type": "subslide"
    }
   },
   "source": [
    "## Use `.` to specify affiliations"
   ]
  },
  {
   "cell_type": "code",
   "execution_count": 7,
   "metadata": {
    "slideshow": {
     "slide_type": "subslide"
    }
   },
   "outputs": [
    {
     "name": "stdout",
     "output_type": "stream",
     "text": [
      "2.71828182846\n",
      "5566\n"
     ]
    }
   ],
   "source": [
    "from calculators.simple_calculator import SimpleCalculator\n",
    "\n",
    "sim_calc = SimpleCalculator()\n",
    "print(sim_calc.e)\n",
    "print(sim_calc.add('55', '66'))"
   ]
  },
  {
   "cell_type": "markdown",
   "metadata": {
    "slideshow": {
     "slide_type": "subslide"
    }
   },
   "source": [
    "## Practically, we do not have to distinguish modules versus libraries\n",
    "\n",
    "- `/opt/conda/lib/python3.8` collects all standard modules and libraries.\n",
    "- `/opt/conda/lib/python3.8/site-packages` collects all third-party modules and libraries."
   ]
  },
  {
   "cell_type": "markdown",
   "metadata": {
    "slideshow": {
     "slide_type": "subslide"
    }
   },
   "source": [
    "## Currently, we might not need to create our own modules or libraries\n",
    "\n",
    "But we have to know how to leverage standard and third-party modules/libraries."
   ]
  },
  {
   "cell_type": "markdown",
   "metadata": {
    "slideshow": {
     "slide_type": "subslide"
    }
   },
   "source": [
    "## How to install a third-party module  or library?\n",
    "\n",
    "Use `pip install` command at Terminal.\n",
    "\n",
    "```bash\n",
    "# run pip install at Terminal\n",
    "pip install module_name libary_name\n",
    "```"
   ]
  },
  {
   "cell_type": "markdown",
   "metadata": {
    "slideshow": {
     "slide_type": "subslide"
    }
   },
   "source": [
    "## What is `pip`?\n",
    "\n",
    "> pip is the package installer for Python. You can use pip to install packages from the Python Package Index and other indexes.\n",
    "\n",
    "Source: <https://pip.pypa.io/en/stable/>"
   ]
  },
  {
   "cell_type": "markdown",
   "metadata": {
    "slideshow": {
     "slide_type": "subslide"
    }
   },
   "source": [
    "## After installations, find them at `/opt/conda/lib/python3.8/site-packages`\n",
    "\n",
    "And import them just like the standard ones."
   ]
  },
  {
   "cell_type": "markdown",
   "metadata": {
    "slideshow": {
     "slide_type": "subslide"
    }
   },
   "source": [
    "## Distinguish the use of function, attributes and methods"
   ]
  },
  {
   "cell_type": "code",
   "execution_count": 8,
   "metadata": {},
   "outputs": [
    {
     "name": "stdout",
     "output_type": "stream",
     "text": [
      "5\n",
      "28\n"
     ]
    }
   ],
   "source": [
    "from numpy import array\n",
    "\n",
    "arr = array([2, 3, 5, 7, 11])  # the function of numpy library\n",
    "print(arr.size)                # the attribute of an arr object\n",
    "print(arr.sum())               # the method of an arr object"
   ]
  },
  {
   "cell_type": "markdown",
   "metadata": {
    "slideshow": {
     "slide_type": "subslide"
    }
   },
   "source": [
    "## How to create a module/library on PyPi?\n",
    "\n",
    "- PyPi stands for Python Package Index.\n",
    "- Check Python Packaging User Guide at <https://packaging.python.org/>."
   ]
  }
 ],
 "metadata": {
  "celltoolbar": "Slideshow",
  "kernelspec": {
   "display_name": "Python Data Analysis",
   "language": "python",
   "name": "pyda"
  },
  "language_info": {
   "codemirror_mode": {
    "name": "ipython",
    "version": 3
   },
   "file_extension": ".py",
   "mimetype": "text/x-python",
   "name": "python",
   "nbconvert_exporter": "python",
   "pygments_lexer": "ipython3",
   "version": "3.6.8"
  }
 },
 "nbformat": 4,
 "nbformat_minor": 4
}
